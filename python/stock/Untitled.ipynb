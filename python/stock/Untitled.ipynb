{
 "cells": [
  {
   "cell_type": "code",
   "execution_count": 51,
   "metadata": {},
   "outputs": [],
   "source": [
    "import os\n",
    "os.environ['IEX_TOKEN'] = 'sk_4494d08a5e6949c6865b04eae4f05942'"
   ]
  },
  {
   "cell_type": "code",
   "execution_count": 14,
   "metadata": {},
   "outputs": [
    {
     "data": {
      "text/plain": [
       "{'payAsYouGoEnabled': False,\n",
       " 'effectiveDate': 1560445773000,\n",
       " 'subscriptionTermType': 'annual',\n",
       " 'tierName': 'start',\n",
       " 'messageLimit': 500000,\n",
       " 'messagesUsed': 3304,\n",
       " 'circuitBreaker': 0}"
      ]
     },
     "metadata": {},
     "output_type": "display_data"
    },
    {
     "data": {
      "text/plain": [
       "{'dailyUsage': {'20190613': '3201', '20190621': '103'},\n",
       " 'monthlyUsage': 3304,\n",
       " 'monthlyPayAsYouGo': 0,\n",
       " 'tokenUsage': {},\n",
       " 'keyUsage': {'REF_DATA': '300',\n",
       "  'BALANCE_SHEET': '3000',\n",
       "  'REF_DATA_IEX_SYMBOLS': '0',\n",
       "  'REF_DATA_EXCHANGES': '4',\n",
       "  'ACCOUNT_USAGE': '0'}}"
      ]
     },
     "metadata": {},
     "output_type": "display_data"
    }
   ],
   "source": [
    "from iexfinance.account import get_metadata, get_usage\n",
    "\n",
    "display(get_metadata())\n",
    "display(get_usage())"
   ]
  },
  {
   "cell_type": "code",
   "execution_count": 2,
   "metadata": {},
   "outputs": [],
   "source": [
    "import ipynb.fs.defs.iex as iex"
   ]
  },
  {
   "cell_type": "code",
   "execution_count": 11,
   "metadata": {},
   "outputs": [
    {
     "data": {
      "text/html": [
       "<div>\n",
       "<style scoped>\n",
       "    .dataframe tbody tr th:only-of-type {\n",
       "        vertical-align: middle;\n",
       "    }\n",
       "\n",
       "    .dataframe tbody tr th {\n",
       "        vertical-align: top;\n",
       "    }\n",
       "\n",
       "    .dataframe thead th {\n",
       "        text-align: right;\n",
       "    }\n",
       "</style>\n",
       "<table border=\"1\" class=\"dataframe\">\n",
       "  <thead>\n",
       "    <tr style=\"text-align: right;\">\n",
       "      <th></th>\n",
       "      <th>description</th>\n",
       "      <th>exchange</th>\n",
       "      <th>exchangeSuffix</th>\n",
       "      <th>mic</th>\n",
       "      <th>region</th>\n",
       "    </tr>\n",
       "  </thead>\n",
       "  <tbody>\n",
       "    <tr>\n",
       "      <th>0</th>\n",
       "      <td>Abu Dhabi Securities Exchange</td>\n",
       "      <td>ADS</td>\n",
       "      <td>-DH</td>\n",
       "      <td>XADS</td>\n",
       "      <td>AE</td>\n",
       "    </tr>\n",
       "    <tr>\n",
       "      <th>1</th>\n",
       "      <td>Tel Aviv Stock Exchange</td>\n",
       "      <td>TAE</td>\n",
       "      <td>-IT</td>\n",
       "      <td>XTAE</td>\n",
       "      <td>IL</td>\n",
       "    </tr>\n",
       "    <tr>\n",
       "      <th>2</th>\n",
       "      <td>BSE Ltd.</td>\n",
       "      <td>BOM</td>\n",
       "      <td>-IB</td>\n",
       "      <td>XBOM</td>\n",
       "      <td>IN</td>\n",
       "    </tr>\n",
       "    <tr>\n",
       "      <th>3</th>\n",
       "      <td>Korea Exchange</td>\n",
       "      <td>KRX</td>\n",
       "      <td>-KP</td>\n",
       "      <td>XKRX</td>\n",
       "      <td>KR</td>\n",
       "    </tr>\n",
       "    <tr>\n",
       "      <th>4</th>\n",
       "      <td>Euronext Brussels</td>\n",
       "      <td>BRU</td>\n",
       "      <td>-BB</td>\n",
       "      <td>XBRU</td>\n",
       "      <td>BE</td>\n",
       "    </tr>\n",
       "    <tr>\n",
       "      <th>5</th>\n",
       "      <td>XETRA</td>\n",
       "      <td>ETR</td>\n",
       "      <td>-GY</td>\n",
       "      <td>XETR</td>\n",
       "      <td>DE</td>\n",
       "    </tr>\n",
       "    <tr>\n",
       "      <th>6</th>\n",
       "      <td>Euronext Paris</td>\n",
       "      <td>PAR</td>\n",
       "      <td>-FP</td>\n",
       "      <td>XPAR</td>\n",
       "      <td>FR</td>\n",
       "    </tr>\n",
       "    <tr>\n",
       "      <th>7</th>\n",
       "      <td>London Stock Exchange</td>\n",
       "      <td>LON</td>\n",
       "      <td>-LN</td>\n",
       "      <td>XLON</td>\n",
       "      <td>GB</td>\n",
       "    </tr>\n",
       "    <tr>\n",
       "      <th>8</th>\n",
       "      <td>Euronext Dublin</td>\n",
       "      <td>DUB</td>\n",
       "      <td>-ID</td>\n",
       "      <td>XDUB</td>\n",
       "      <td>IE</td>\n",
       "    </tr>\n",
       "    <tr>\n",
       "      <th>9</th>\n",
       "      <td>Euronext Amsterdam</td>\n",
       "      <td>AMS</td>\n",
       "      <td>-NA</td>\n",
       "      <td>XAMS</td>\n",
       "      <td>NL</td>\n",
       "    </tr>\n",
       "    <tr>\n",
       "      <th>10</th>\n",
       "      <td>Euronext Lisbon</td>\n",
       "      <td>LIS</td>\n",
       "      <td>-PL</td>\n",
       "      <td>XLIS</td>\n",
       "      <td>PT</td>\n",
       "    </tr>\n",
       "    <tr>\n",
       "      <th>11</th>\n",
       "      <td>Toronto Stock Exchange</td>\n",
       "      <td>TSE</td>\n",
       "      <td>-CT</td>\n",
       "      <td>XTSE</td>\n",
       "      <td>CA</td>\n",
       "    </tr>\n",
       "    <tr>\n",
       "      <th>12</th>\n",
       "      <td>TSX Venture Exchange</td>\n",
       "      <td>TSX</td>\n",
       "      <td>-CV</td>\n",
       "      <td>XTSX</td>\n",
       "      <td>CA</td>\n",
       "    </tr>\n",
       "    <tr>\n",
       "      <th>13</th>\n",
       "      <td>Mexican Stock Exchange</td>\n",
       "      <td>MEX</td>\n",
       "      <td>-MM</td>\n",
       "      <td>XMEX</td>\n",
       "      <td>MX</td>\n",
       "    </tr>\n",
       "    <tr>\n",
       "      <th>14</th>\n",
       "      <td>Cboe BZX US Equities Exchange</td>\n",
       "      <td>BATS</td>\n",
       "      <td></td>\n",
       "      <td>BATS</td>\n",
       "      <td>US</td>\n",
       "    </tr>\n",
       "    <tr>\n",
       "      <th>15</th>\n",
       "      <td>IEX</td>\n",
       "      <td>IEXG</td>\n",
       "      <td></td>\n",
       "      <td>IEXG</td>\n",
       "      <td>US</td>\n",
       "    </tr>\n",
       "    <tr>\n",
       "      <th>16</th>\n",
       "      <td>NASDAQ</td>\n",
       "      <td>NAS</td>\n",
       "      <td></td>\n",
       "      <td>XNAS</td>\n",
       "      <td>US</td>\n",
       "    </tr>\n",
       "    <tr>\n",
       "      <th>17</th>\n",
       "      <td>New York Stock Exchange</td>\n",
       "      <td>NYS</td>\n",
       "      <td></td>\n",
       "      <td>XNYS</td>\n",
       "      <td>US</td>\n",
       "    </tr>\n",
       "    <tr>\n",
       "      <th>18</th>\n",
       "      <td>US OTC</td>\n",
       "      <td>OTC</td>\n",
       "      <td></td>\n",
       "      <td>XOTC</td>\n",
       "      <td>US</td>\n",
       "    </tr>\n",
       "    <tr>\n",
       "      <th>19</th>\n",
       "      <td>NASDAQ OMX PSX</td>\n",
       "      <td>PHL</td>\n",
       "      <td></td>\n",
       "      <td>XPHL</td>\n",
       "      <td>US</td>\n",
       "    </tr>\n",
       "    <tr>\n",
       "      <th>20</th>\n",
       "      <td>NYSE Arca</td>\n",
       "      <td>PSE</td>\n",
       "      <td></td>\n",
       "      <td>ARCX</td>\n",
       "      <td>US</td>\n",
       "    </tr>\n",
       "  </tbody>\n",
       "</table>\n",
       "</div>"
      ],
      "text/plain": [
       "                      description exchange exchangeSuffix   mic region\n",
       "0   Abu Dhabi Securities Exchange      ADS            -DH  XADS     AE\n",
       "1         Tel Aviv Stock Exchange      TAE            -IT  XTAE     IL\n",
       "2                        BSE Ltd.      BOM            -IB  XBOM     IN\n",
       "3                  Korea Exchange      KRX            -KP  XKRX     KR\n",
       "4               Euronext Brussels      BRU            -BB  XBRU     BE\n",
       "5                           XETRA      ETR            -GY  XETR     DE\n",
       "6                  Euronext Paris      PAR            -FP  XPAR     FR\n",
       "7           London Stock Exchange      LON            -LN  XLON     GB\n",
       "8                 Euronext Dublin      DUB            -ID  XDUB     IE\n",
       "9              Euronext Amsterdam      AMS            -NA  XAMS     NL\n",
       "10                Euronext Lisbon      LIS            -PL  XLIS     PT\n",
       "11         Toronto Stock Exchange      TSE            -CT  XTSE     CA\n",
       "12           TSX Venture Exchange      TSX            -CV  XTSX     CA\n",
       "13         Mexican Stock Exchange      MEX            -MM  XMEX     MX\n",
       "14  Cboe BZX US Equities Exchange     BATS                 BATS     US\n",
       "15                            IEX     IEXG                 IEXG     US\n",
       "16                         NASDAQ      NAS                 XNAS     US\n",
       "17        New York Stock Exchange      NYS                 XNYS     US\n",
       "18                         US OTC      OTC                 XOTC     US\n",
       "19                 NASDAQ OMX PSX      PHL                 XPHL     US\n",
       "20                      NYSE Arca      PSE                 ARCX     US"
      ]
     },
     "execution_count": 11,
     "metadata": {},
     "output_type": "execute_result"
    }
   ],
   "source": [
    "iex.get_exchanges(output_format='pandas')"
   ]
  },
  {
   "cell_type": "code",
   "execution_count": 3,
   "metadata": {},
   "outputs": [],
   "source": [
    "international_symbols_bru = iex.get_international_symbols(exchange='BRU',output_format='pandas')"
   ]
  },
  {
   "cell_type": "code",
   "execution_count": 18,
   "metadata": {},
   "outputs": [
    {
     "data": {
      "text/html": [
       "<div>\n",
       "<style scoped>\n",
       "    .dataframe tbody tr th:only-of-type {\n",
       "        vertical-align: middle;\n",
       "    }\n",
       "\n",
       "    .dataframe tbody tr th {\n",
       "        vertical-align: top;\n",
       "    }\n",
       "\n",
       "    .dataframe thead th {\n",
       "        text-align: right;\n",
       "    }\n",
       "</style>\n",
       "<table border=\"1\" class=\"dataframe\">\n",
       "  <thead>\n",
       "    <tr style=\"text-align: right;\">\n",
       "      <th></th>\n",
       "      <th>currency</th>\n",
       "      <th>date</th>\n",
       "      <th>exchange</th>\n",
       "      <th>iexId</th>\n",
       "      <th>isEnabled</th>\n",
       "      <th>name</th>\n",
       "      <th>region</th>\n",
       "      <th>symbol</th>\n",
       "      <th>type</th>\n",
       "    </tr>\n",
       "  </thead>\n",
       "  <tbody>\n",
       "    <tr>\n",
       "      <th>172</th>\n",
       "      <td>EUR</td>\n",
       "      <td>2019-06-21</td>\n",
       "      <td>BRU</td>\n",
       "      <td>IEX_4231423851522D52</td>\n",
       "      <td>True</td>\n",
       "      <td>Agfa-Gevaert NV</td>\n",
       "      <td>BE</td>\n",
       "      <td>AGFB-BB</td>\n",
       "      <td>cs</td>\n",
       "    </tr>\n",
       "  </tbody>\n",
       "</table>\n",
       "</div>"
      ],
      "text/plain": [
       "    currency        date exchange                 iexId  isEnabled  \\\n",
       "172      EUR  2019-06-21      BRU  IEX_4231423851522D52       True   \n",
       "\n",
       "                name region   symbol type  \n",
       "172  Agfa-Gevaert NV     BE  AGFB-BB   cs  "
      ]
     },
     "execution_count": 18,
     "metadata": {},
     "output_type": "execute_result"
    }
   ],
   "source": [
    "international_symbols_bru[international_symbols_bru['name'].str.contains('Agfa')]"
   ]
  },
  {
   "cell_type": "code",
   "execution_count": 20,
   "metadata": {},
   "outputs": [],
   "source": [
    "from iexfinance.stocks import Stock"
   ]
  },
  {
   "cell_type": "code",
   "execution_count": 21,
   "metadata": {},
   "outputs": [],
   "source": [
    "stock = Stock('AGFB-BB')"
   ]
  },
  {
   "cell_type": "code",
   "execution_count": 35,
   "metadata": {},
   "outputs": [
    {
     "data": {
      "text/plain": [
       "{'quote': {'symbol': 'AGFB-BB',\n",
       "  'companyName': 'Agfa-Gevaert NV',\n",
       "  'calculationPrice': 'close',\n",
       "  'open': None,\n",
       "  'openTime': None,\n",
       "  'close': 3.51,\n",
       "  'closeTime': 1561003200000,\n",
       "  'high': None,\n",
       "  'low': None,\n",
       "  'latestPrice': 3.51,\n",
       "  'latestSource': 'Close',\n",
       "  'latestTime': 'June 20, 2019',\n",
       "  'latestUpdate': 1561003200000,\n",
       "  'latestVolume': 0,\n",
       "  'iexRealtimePrice': None,\n",
       "  'iexRealtimeSize': None,\n",
       "  'iexLastUpdated': None,\n",
       "  'delayedPrice': None,\n",
       "  'delayedPriceTime': None,\n",
       "  'extendedPrice': None,\n",
       "  'extendedChange': None,\n",
       "  'extendedChangePercent': None,\n",
       "  'extendedPriceTime': None,\n",
       "  'previousClose': 3.55,\n",
       "  'change': -0.04,\n",
       "  'changePercent': -0.01127,\n",
       "  'iexMarketPercent': None,\n",
       "  'iexVolume': None,\n",
       "  'avgTotalVolume': 216303,\n",
       "  'iexBidPrice': None,\n",
       "  'iexBidSize': None,\n",
       "  'iexAskPrice': None,\n",
       "  'iexAskSize': None,\n",
       "  'marketCap': 0,\n",
       "  'peRatio': None,\n",
       "  'week52High': 4.19,\n",
       "  'week52Low': 3.13,\n",
       "  'ytdChange': 0.047765999999999996},\n",
       " 'bids': [],\n",
       " 'asks': [],\n",
       " 'systemEvent': {'systemEvent': 'R', 'timestamp': 1561123800000}}"
      ]
     },
     "execution_count": 35,
     "metadata": {},
     "output_type": "execute_result"
    }
   ],
   "source": [
    "stock.get_book()"
   ]
  },
  {
   "cell_type": "code",
   "execution_count": 52,
   "metadata": {},
   "outputs": [
    {
     "ename": "IEXAuthenticationError",
     "evalue": "The query could not be completed. There was a client-side error with your request.",
     "output_type": "error",
     "traceback": [
      "\u001b[0;31m---------------------------------------------------------------------------\u001b[0m",
      "\u001b[0;31mIEXAuthenticationError\u001b[0m                    Traceback (most recent call last)",
      "\u001b[0;32m<ipython-input-52-b9e8d1fffb74>\u001b[0m in \u001b[0;36m<module>\u001b[0;34m\u001b[0m\n\u001b[1;32m      1\u001b[0m \u001b[0;32mimport\u001b[0m \u001b[0miexfinance\u001b[0m\u001b[0;34m.\u001b[0m\u001b[0maltdata\u001b[0m\u001b[0;34m\u001b[0m\u001b[0;34m\u001b[0m\u001b[0m\n\u001b[0;32m----> 2\u001b[0;31m \u001b[0miexfinance\u001b[0m\u001b[0;34m.\u001b[0m\u001b[0maltdata\u001b[0m\u001b[0;34m.\u001b[0m\u001b[0mget_social_sentiment\u001b[0m\u001b[0;34m(\u001b[0m\u001b[0;34m'AAPL'\u001b[0m\u001b[0;34m)\u001b[0m\u001b[0;34m\u001b[0m\u001b[0;34m\u001b[0m\u001b[0m\n\u001b[0m",
      "\u001b[0;32m~/anaconda3/envs/ptc/lib/python3.6/site-packages/iexfinance/altdata/__init__.py\u001b[0m in \u001b[0;36mget_social_sentiment\u001b[0;34m(symbol, period_type, date, **kwargs)\u001b[0m\n\u001b[1;32m     48\u001b[0m     warnings.warn(\"UNSTABLE ENDPOINT: Not yet fully implemented by the \"\n\u001b[1;32m     49\u001b[0m                   \"provider.\")\n\u001b[0;32m---> 50\u001b[0;31m     \u001b[0;32mreturn\u001b[0m \u001b[0mSocialSentiment\u001b[0m\u001b[0;34m(\u001b[0m\u001b[0msymbol\u001b[0m\u001b[0;34m,\u001b[0m \u001b[0mperiod_type\u001b[0m\u001b[0;34m,\u001b[0m \u001b[0mdate\u001b[0m\u001b[0;34m,\u001b[0m \u001b[0;34m**\u001b[0m\u001b[0mkwargs\u001b[0m\u001b[0;34m)\u001b[0m\u001b[0;34m.\u001b[0m\u001b[0mfetch\u001b[0m\u001b[0;34m(\u001b[0m\u001b[0;34m)\u001b[0m\u001b[0;34m\u001b[0m\u001b[0;34m\u001b[0m\u001b[0m\n\u001b[0m\u001b[1;32m     51\u001b[0m \u001b[0;34m\u001b[0m\u001b[0m\n\u001b[1;32m     52\u001b[0m \u001b[0;34m\u001b[0m\u001b[0m\n",
      "\u001b[0;32m~/anaconda3/envs/ptc/lib/python3.6/site-packages/iexfinance/utils/__init__.py\u001b[0m in \u001b[0;36m_wrapped_function\u001b[0;34m(self, *args, **kwargs)\u001b[0m\n\u001b[1;32m     61\u001b[0m                                 'iexcloud-v1'):\n\u001b[1;32m     62\u001b[0m             \u001b[0;32mraise\u001b[0m \u001b[0mIEXVersionError\u001b[0m\u001b[0;34m(\u001b[0m\u001b[0mself\u001b[0m\u001b[0;34m.\u001b[0m\u001b[0mversion\u001b[0m\u001b[0;34m)\u001b[0m\u001b[0;34m\u001b[0m\u001b[0;34m\u001b[0m\u001b[0m\n\u001b[0;32m---> 63\u001b[0;31m         \u001b[0;32mreturn\u001b[0m \u001b[0mfunc\u001b[0m\u001b[0;34m(\u001b[0m\u001b[0mself\u001b[0m\u001b[0;34m,\u001b[0m \u001b[0;34m*\u001b[0m\u001b[0margs\u001b[0m\u001b[0;34m,\u001b[0m \u001b[0;34m**\u001b[0m\u001b[0mkwargs\u001b[0m\u001b[0;34m)\u001b[0m\u001b[0;34m\u001b[0m\u001b[0;34m\u001b[0m\u001b[0m\n\u001b[0m\u001b[1;32m     64\u001b[0m     \u001b[0;32mreturn\u001b[0m \u001b[0m_wrapped_function\u001b[0m\u001b[0;34m\u001b[0m\u001b[0;34m\u001b[0m\u001b[0m\n\u001b[1;32m     65\u001b[0m \u001b[0;34m\u001b[0m\u001b[0m\n",
      "\u001b[0;32m~/anaconda3/envs/ptc/lib/python3.6/site-packages/iexfinance/altdata/base.py\u001b[0m in \u001b[0;36mfetch\u001b[0;34m(self)\u001b[0m\n\u001b[1;32m     51\u001b[0m     \u001b[0;34m@\u001b[0m\u001b[0mcloud_endpoint\u001b[0m\u001b[0;34m\u001b[0m\u001b[0;34m\u001b[0m\u001b[0m\n\u001b[1;32m     52\u001b[0m     \u001b[0;32mdef\u001b[0m \u001b[0mfetch\u001b[0m\u001b[0;34m(\u001b[0m\u001b[0mself\u001b[0m\u001b[0;34m)\u001b[0m\u001b[0;34m:\u001b[0m\u001b[0;34m\u001b[0m\u001b[0;34m\u001b[0m\u001b[0m\n\u001b[0;32m---> 53\u001b[0;31m         \u001b[0;32mreturn\u001b[0m \u001b[0msuper\u001b[0m\u001b[0;34m(\u001b[0m\u001b[0mSocialSentiment\u001b[0m\u001b[0;34m,\u001b[0m \u001b[0mself\u001b[0m\u001b[0;34m)\u001b[0m\u001b[0;34m.\u001b[0m\u001b[0mfetch\u001b[0m\u001b[0;34m(\u001b[0m\u001b[0;34m)\u001b[0m\u001b[0;34m\u001b[0m\u001b[0;34m\u001b[0m\u001b[0m\n\u001b[0m\u001b[1;32m     54\u001b[0m \u001b[0;34m\u001b[0m\u001b[0m\n\u001b[1;32m     55\u001b[0m \u001b[0;34m\u001b[0m\u001b[0m\n",
      "\u001b[0;32m~/anaconda3/envs/ptc/lib/python3.6/site-packages/iexfinance/base.py\u001b[0m in \u001b[0;36mfetch\u001b[0;34m(self, fmt_p, fmt_j)\u001b[0m\n\u001b[1;32m    199\u001b[0m         \"\"\"\n\u001b[1;32m    200\u001b[0m         \u001b[0murl\u001b[0m \u001b[0;34m=\u001b[0m \u001b[0mself\u001b[0m\u001b[0;34m.\u001b[0m\u001b[0m_prepare_query\u001b[0m\u001b[0;34m(\u001b[0m\u001b[0;34m)\u001b[0m\u001b[0;34m\u001b[0m\u001b[0;34m\u001b[0m\u001b[0m\n\u001b[0;32m--> 201\u001b[0;31m         \u001b[0mdata\u001b[0m \u001b[0;34m=\u001b[0m \u001b[0mself\u001b[0m\u001b[0;34m.\u001b[0m\u001b[0m_execute_iex_query\u001b[0m\u001b[0;34m(\u001b[0m\u001b[0murl\u001b[0m\u001b[0;34m)\u001b[0m\u001b[0;34m\u001b[0m\u001b[0;34m\u001b[0m\u001b[0m\n\u001b[0m\u001b[1;32m    202\u001b[0m         \u001b[0;32mreturn\u001b[0m \u001b[0mself\u001b[0m\u001b[0;34m.\u001b[0m\u001b[0m_output_format\u001b[0m\u001b[0;34m(\u001b[0m\u001b[0mdata\u001b[0m\u001b[0;34m,\u001b[0m \u001b[0mfmt_j\u001b[0m\u001b[0;34m=\u001b[0m\u001b[0mfmt_j\u001b[0m\u001b[0;34m,\u001b[0m \u001b[0mfmt_p\u001b[0m\u001b[0;34m=\u001b[0m\u001b[0mfmt_p\u001b[0m\u001b[0;34m)\u001b[0m\u001b[0;34m\u001b[0m\u001b[0;34m\u001b[0m\u001b[0m\n\u001b[1;32m    203\u001b[0m \u001b[0;34m\u001b[0m\u001b[0m\n",
      "\u001b[0;32m~/anaconda3/envs/ptc/lib/python3.6/site-packages/iexfinance/base.py\u001b[0m in \u001b[0;36m_execute_iex_query\u001b[0;34m(self, url)\u001b[0m\n\u001b[1;32m    155\u001b[0m                 \u001b[0;32mreturn\u001b[0m \u001b[0mself\u001b[0m\u001b[0;34m.\u001b[0m\u001b[0m_validate_response\u001b[0m\u001b[0;34m(\u001b[0m\u001b[0mresponse\u001b[0m\u001b[0;34m)\u001b[0m\u001b[0;34m\u001b[0m\u001b[0;34m\u001b[0m\u001b[0m\n\u001b[1;32m    156\u001b[0m             \u001b[0mtime\u001b[0m\u001b[0;34m.\u001b[0m\u001b[0msleep\u001b[0m\u001b[0;34m(\u001b[0m\u001b[0mself\u001b[0m\u001b[0;34m.\u001b[0m\u001b[0mpause\u001b[0m\u001b[0;34m)\u001b[0m\u001b[0;34m\u001b[0m\u001b[0;34m\u001b[0m\u001b[0m\n\u001b[0;32m--> 157\u001b[0;31m         \u001b[0;32mreturn\u001b[0m \u001b[0mself\u001b[0m\u001b[0;34m.\u001b[0m\u001b[0m_handle_error\u001b[0m\u001b[0;34m(\u001b[0m\u001b[0mresponse\u001b[0m\u001b[0;34m)\u001b[0m\u001b[0;34m\u001b[0m\u001b[0;34m\u001b[0m\u001b[0m\n\u001b[0m\u001b[1;32m    158\u001b[0m \u001b[0;34m\u001b[0m\u001b[0m\n\u001b[1;32m    159\u001b[0m     \u001b[0;32mdef\u001b[0m \u001b[0m_handle_error\u001b[0m\u001b[0;34m(\u001b[0m\u001b[0mself\u001b[0m\u001b[0;34m,\u001b[0m \u001b[0mresponse\u001b[0m\u001b[0;34m)\u001b[0m\u001b[0;34m:\u001b[0m\u001b[0;34m\u001b[0m\u001b[0;34m\u001b[0m\u001b[0m\n",
      "\u001b[0;32m~/anaconda3/envs/ptc/lib/python3.6/site-packages/iexfinance/base.py\u001b[0m in \u001b[0;36m_handle_error\u001b[0;34m(self, response)\u001b[0m\n\u001b[1;32m    168\u001b[0m                 \u001b[0;32mraise\u001b[0m \u001b[0mauth_error\u001b[0m\u001b[0;34m(\u001b[0m\u001b[0mauth_msg\u001b[0m\u001b[0;34m)\u001b[0m\u001b[0;34m\u001b[0m\u001b[0;34m\u001b[0m\u001b[0m\n\u001b[1;32m    169\u001b[0m             \u001b[0;32melse\u001b[0m\u001b[0;34m:\u001b[0m\u001b[0;34m\u001b[0m\u001b[0;34m\u001b[0m\u001b[0m\n\u001b[0;32m--> 170\u001b[0;31m                 raise auth_error(\"The query could not be completed. \"\n\u001b[0m\u001b[1;32m    171\u001b[0m                                  \u001b[0;34m\"There was a client-side error with your \"\u001b[0m\u001b[0;34m\u001b[0m\u001b[0;34m\u001b[0m\u001b[0m\n\u001b[1;32m    172\u001b[0m                                  \"request.\")\n",
      "\u001b[0;31mIEXAuthenticationError\u001b[0m: The query could not be completed. There was a client-side error with your request."
     ]
    }
   ],
   "source": [
    "import iexfinance.altdata\n",
    "iexfinance.altdata.get_social_sentiment('AAPL')\n"
   ]
  },
  {
   "cell_type": "code",
   "execution_count": 46,
   "metadata": {},
   "outputs": [
    {
     "data": {
      "text/plain": [
       "['ImmediateDeprecationError',\n",
       " '__author__',\n",
       " '__builtins__',\n",
       " '__cached__',\n",
       " '__doc__',\n",
       " '__file__',\n",
       " '__loader__',\n",
       " '__name__',\n",
       " '__package__',\n",
       " '__path__',\n",
       " '__spec__',\n",
       " '__version__',\n",
       " 'base',\n",
       " 'get_available_symbols',\n",
       " 'get_iex_corporate_actions',\n",
       " 'get_iex_dividends',\n",
       " 'get_iex_listed_symbol_dir',\n",
       " 'get_iex_next_day_ex_date',\n",
       " 'get_market_book',\n",
       " 'get_market_deep',\n",
       " 'get_market_gainers',\n",
       " 'get_market_iex_percent',\n",
       " 'get_market_iex_volume',\n",
       " 'get_market_last',\n",
       " 'get_market_losers',\n",
       " 'get_market_most_active',\n",
       " 'get_market_tops',\n",
       " 'get_stats_daily',\n",
       " 'get_stats_intraday',\n",
       " 'get_stats_monthly',\n",
       " 'get_stats_recent',\n",
       " 'get_stats_records',\n",
       " 'refdata',\n",
       " 'stocks',\n",
       " 'utils']"
      ]
     },
     "execution_count": 46,
     "metadata": {},
     "output_type": "execute_result"
    }
   ],
   "source": [
    "dir(iexfinance)"
   ]
  },
  {
   "cell_type": "code",
   "execution_count": 53,
   "metadata": {},
   "outputs": [],
   "source": [
    "import yfinance as yf"
   ]
  },
  {
   "cell_type": "code",
   "execution_count": 54,
   "metadata": {},
   "outputs": [],
   "source": [
    "ucb = yf.Ticker(\"KBC.BR\")"
   ]
  },
  {
   "cell_type": "code",
   "execution_count": 69,
   "metadata": {},
   "outputs": [],
   "source": [
    "data = msft.history(start='2014-01-01')[['Open','High','Low','Close','Volume']]"
   ]
  },
  {
   "cell_type": "code",
   "execution_count": 71,
   "metadata": {},
   "outputs": [],
   "source": [
    "data.to_csv('agfb.br.csv')"
   ]
  },
  {
   "cell_type": "code",
   "execution_count": 72,
   "metadata": {},
   "outputs": [
    {
     "data": {
      "text/plain": [
       "'/Users/gert/GitHub/MakingMoneyML/python/stock'"
      ]
     },
     "execution_count": 72,
     "metadata": {},
     "output_type": "execute_result"
    }
   ],
   "source": [
    "pwd"
   ]
  },
  {
   "cell_type": "code",
   "execution_count": null,
   "metadata": {},
   "outputs": [],
   "source": []
  }
 ],
 "metadata": {
  "kernelspec": {
   "display_name": "Python 3",
   "language": "python",
   "name": "python3"
  },
  "language_info": {
   "codemirror_mode": {
    "name": "ipython",
    "version": 3
   },
   "file_extension": ".py",
   "mimetype": "text/x-python",
   "name": "python",
   "nbconvert_exporter": "python",
   "pygments_lexer": "ipython3",
   "version": "3.6.8"
  }
 },
 "nbformat": 4,
 "nbformat_minor": 2
}
