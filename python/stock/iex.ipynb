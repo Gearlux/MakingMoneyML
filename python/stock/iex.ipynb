{
 "cells": [
  {
   "cell_type": "code",
   "execution_count": 30,
   "metadata": {},
   "outputs": [],
   "source": [
    "import iexfinance.refdata\n",
    "from iexfinance.base import _IEXBase\n",
    "from iexfinance.utils import cloud_endpoint, legacy_endpoint\n",
    "\n",
    "class Exchanges(iexfinance.refdata.base.CloudRef):\n",
    "\n",
    "    @cloud_endpoint\n",
    "    def fetch(self):\n",
    "        return super(iexfinance.refdata.base.CloudRef, self).fetch()\n",
    "\n",
    "    @property\n",
    "    def endpoint(self):\n",
    "        return \"exchanges\"\n",
    "    \n",
    "class InternationalSymbols(iexfinance.refdata.base.CloudRef):\n",
    "    def __init__(self, region=None, exchange=None, **kwargs):\n",
    "        if region is not None:\n",
    "            self.param = region\n",
    "            self.base = 'region'\n",
    "        if exchange is not None:\n",
    "            self.param = exchange\n",
    "            self.base = 'exchange'\n",
    "        if self.param is None:\n",
    "            raise NotImplementedError\n",
    "        super(iexfinance.refdata.base.CloudRef, self).__init__(**kwargs)\n",
    "\n",
    "    @cloud_endpoint\n",
    "    def fetch(self):\n",
    "        return super(iexfinance.refdata.base.CloudRef, self).fetch()\n",
    "\n",
    "    @property\n",
    "    def endpoint(self):\n",
    "        return \"%s/%s/symbols\" % (self.base, self.param)\n",
    "\n",
    "    \n",
    "    \n",
    "def get_exchanges(**kwargs):\n",
    "    return Exchanges(**kwargs).fetch()\n",
    "\n",
    "def get_international_symbols(region=None, exchange=None, **kwargs):\n",
    "    return InternationalSymbols(region=region, exchange=exchange, **kwargs).fetch()"
   ]
  },
  {
   "cell_type": "code",
   "execution_count": null,
   "metadata": {},
   "outputs": [],
   "source": []
  }
 ],
 "metadata": {
  "kernelspec": {
   "display_name": "Python 3",
   "language": "python",
   "name": "python3"
  },
  "language_info": {
   "codemirror_mode": {
    "name": "ipython",
    "version": 3
   },
   "file_extension": ".py",
   "mimetype": "text/x-python",
   "name": "python",
   "nbconvert_exporter": "python",
   "pygments_lexer": "ipython3",
   "version": "3.6.8"
  }
 },
 "nbformat": 4,
 "nbformat_minor": 2
}
